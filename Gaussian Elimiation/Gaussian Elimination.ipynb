{
 "cells": [
  {
   "cell_type": "code",
   "execution_count": 1,
   "id": "c760822b",
   "metadata": {
    "tags": [
     "graded"
    ]
   },
   "outputs": [],
   "source": [
    "import numpy as np"
   ]
  },
  {
   "cell_type": "code",
   "execution_count": 3,
   "id": "8c9b3434",
   "metadata": {
    "tags": [
     "graded"
    ]
   },
   "outputs": [],
   "source": [
    "def swap_rows(M, row_index_1, row_index_2):\n",
    "    \n",
    "    M = M.copy()\n",
    "    M[[row_index_1, row_index_2]] = M[[row_index_2, row_index_1]]\n",
    "    return M"
   ]
  },
  {
   "cell_type": "code",
   "execution_count": 4,
   "id": "dc5ca00f",
   "metadata": {},
   "outputs": [
    {
     "name": "stdout",
     "output_type": "stream",
     "text": [
      "[[ 1  3  6]\n",
      " [ 0 -5  2]\n",
      " [-4  5  8]]\n"
     ]
    }
   ],
   "source": [
    "M = np.array([\n",
    "[1, 3, 6],\n",
    "[0, -5, 2],\n",
    "[-4, 5, 8]\n",
    "])\n",
    "print(M)"
   ]
  },
  {
   "cell_type": "code",
   "execution_count": 5,
   "id": "7351352f",
   "metadata": {},
   "outputs": [
    {
     "name": "stdout",
     "output_type": "stream",
     "text": [
      "[[-4  5  8]\n",
      " [ 0 -5  2]\n",
      " [ 1  3  6]]\n"
     ]
    }
   ],
   "source": [
    "M_swapped = swap_rows(M, 0, 2)\n",
    "print(M_swapped)"
   ]
  },
  {
   "cell_type": "code",
   "execution_count": 6,
   "id": "98775485",
   "metadata": {},
   "outputs": [
    {
     "data": {
      "text/plain": [
       "array([2, 8])"
      ]
     },
     "execution_count": 6,
     "metadata": {},
     "output_type": "execute_result"
    }
   ],
   "source": [
    "M[1:,2]"
   ]
  },
  {
   "cell_type": "code",
   "execution_count": 7,
   "id": "6fbc35e9",
   "metadata": {
    "tags": [
     "graded"
    ]
   },
   "outputs": [],
   "source": [
    "def get_index_first_non_zero_value_from_column(M, column, starting_row):\n",
    "    \n",
    "    column_array = M[starting_row:,column]\n",
    "    for i, val in enumerate(column_array):\n",
    "        if not np.isclose(val, 0, atol = 1e-5):\n",
    "            index = i + starting_row\n",
    "            return index\n",
    "    return -1"
   ]
  },
  {
   "cell_type": "code",
   "execution_count": 8,
   "id": "0bcd50cf",
   "metadata": {},
   "outputs": [
    {
     "name": "stdout",
     "output_type": "stream",
     "text": [
      "[[ 0  5 -3  6  8]\n",
      " [ 0  6  3  8  1]\n",
      " [ 0  0  0  0  0]\n",
      " [ 0  0  0  0  7]\n",
      " [ 0  2  1  0  4]]\n"
     ]
    }
   ],
   "source": [
    "N = np.array([\n",
    "[0, 5, -3 ,6 ,8],\n",
    "[0, 6, 3, 8, 1],\n",
    "[0, 0, 0, 0, 0],\n",
    "[0, 0, 0 ,0 ,7],\n",
    "[0, 2, 1, 0, 4]\n",
    "]\n",
    ")\n",
    "print(N)"
   ]
  },
  {
   "cell_type": "code",
   "execution_count": 9,
   "id": "58cd45b3",
   "metadata": {
    "scrolled": true
   },
   "outputs": [
    {
     "name": "stdout",
     "output_type": "stream",
     "text": [
      "-1\n"
     ]
    }
   ],
   "source": [
    "print(get_index_first_non_zero_value_from_column(N, column = 0, starting_row = 0))"
   ]
  },
  {
   "cell_type": "code",
   "execution_count": 10,
   "id": "77acfb71",
   "metadata": {},
   "outputs": [
    {
     "name": "stdout",
     "output_type": "stream",
     "text": [
      "3\n"
     ]
    }
   ],
   "source": [
    "print(get_index_first_non_zero_value_from_column(N, column = -1, starting_row = 2))"
   ]
  },
  {
   "cell_type": "code",
   "execution_count": 11,
   "id": "9c18b6f5",
   "metadata": {
    "tags": [
     "graded"
    ]
   },
   "outputs": [],
   "source": [
    "def get_index_first_non_zero_value_from_row(M, row, augmented = False):\n",
    "    \n",
    "    M = M.copy()\n",
    "    if augmented == True:\n",
    "        M = M[:,:-1]\n",
    "    row_array = M[row]\n",
    "    for i, val in enumerate(row_array):\n",
    "        if not np.isclose(val, 0, atol = 1e-5):\n",
    "            return i\n",
    "    return -1"
   ]
  },
  {
   "cell_type": "code",
   "execution_count": 12,
   "id": "31995956",
   "metadata": {},
   "outputs": [
    {
     "data": {
      "text/plain": [
       "array([-4,  5,  8])"
      ]
     },
     "execution_count": 12,
     "metadata": {},
     "output_type": "execute_result"
    }
   ],
   "source": [
    "M[2]"
   ]
  },
  {
   "cell_type": "code",
   "execution_count": 13,
   "id": "d6c3cc55",
   "metadata": {},
   "outputs": [
    {
     "name": "stdout",
     "output_type": "stream",
     "text": [
      "[[ 0  5 -3  6  8]\n",
      " [ 0  6  3  8  1]\n",
      " [ 0  0  0  0  0]\n",
      " [ 0  0  0  0  7]\n",
      " [ 0  2  1  0  4]]\n"
     ]
    }
   ],
   "source": [
    "print(N)"
   ]
  },
  {
   "cell_type": "code",
   "execution_count": 14,
   "id": "06fea68a",
   "metadata": {},
   "outputs": [
    {
     "data": {
      "text/plain": [
       "array([ 0,  5, -3,  6,  8])"
      ]
     },
     "execution_count": 14,
     "metadata": {},
     "output_type": "execute_result"
    }
   ],
   "source": [
    "N[0,:]"
   ]
  },
  {
   "cell_type": "code",
   "execution_count": 15,
   "id": "e0553d34",
   "metadata": {},
   "outputs": [
    {
     "name": "stdout",
     "output_type": "stream",
     "text": [
      "Output for row 2: -1\n",
      "Output for row 3: 4\n"
     ]
    }
   ],
   "source": [
    "print(f'Output for row 2: {get_index_first_non_zero_value_from_row(N, 2)}')\n",
    "print(f'Output for row 3: {get_index_first_non_zero_value_from_row(N, 3)}')"
   ]
  },
  {
   "cell_type": "code",
   "execution_count": 16,
   "id": "295afb5f",
   "metadata": {},
   "outputs": [
    {
     "name": "stdout",
     "output_type": "stream",
     "text": [
      "Output for row 3: -1\n"
     ]
    }
   ],
   "source": [
    "print(f'Output for row 3: {get_index_first_non_zero_value_from_row(N, 3, augmented = True)}')"
   ]
  },
  {
   "cell_type": "code",
   "execution_count": 17,
   "id": "47e2dfc1",
   "metadata": {
    "tags": [
     "graded"
    ]
   },
   "outputs": [],
   "source": [
    "def augmented_matrix(A, B):\n",
    "    \n",
    "    augmented_M = np.hstack((A,B))\n",
    "    return augmented_M"
   ]
  },
  {
   "cell_type": "code",
   "execution_count": 18,
   "id": "c450fa80",
   "metadata": {},
   "outputs": [
    {
     "name": "stdout",
     "output_type": "stream",
     "text": [
      "[[1 2 3 1]\n",
      " [3 4 5 5]\n",
      " [4 5 6 7]]\n"
     ]
    }
   ],
   "source": [
    "A = np.array([[1,2,3], [3,4,5], [4,5,6]])\n",
    "B = np.array([[1], [5], [7]])\n",
    "print(augmented_matrix(A,B))"
   ]
  },
  {
   "cell_type": "code",
   "execution_count": 19,
   "id": "a57523f0",
   "metadata": {},
   "outputs": [
    {
     "data": {
      "text/plain": [
       "(3, 3)"
      ]
     },
     "execution_count": 19,
     "metadata": {},
     "output_type": "execute_result"
    }
   ],
   "source": [
    "M.shape"
   ]
  },
  {
   "cell_type": "code",
   "execution_count": 20,
   "id": "69e9255f",
   "metadata": {
    "tags": [
     "graded"
    ]
   },
   "outputs": [],
   "source": [
    "def row_echelon_form(A, B):\n",
    "    \n",
    "    det_A = np.linalg.det(A)\n",
    "    if np.isclose(det_A, 0) == True:\n",
    "        return 'Singular system'\n",
    "    A = A.copy()\n",
    "    B = B.copy()\n",
    "    A = A.astype('float64')\n",
    "    B = B.astype('float64')\n",
    "    num_rows = len(A) \n",
    "    M = augmented_matrix(A,B)\n",
    "    for row in range(num_rows):\n",
    "        pivot_candidate = M[row, row]\n",
    "        if np.isclose(pivot_candidate, 0) == True: \n",
    "            first_non_zero_value_below_pivot_candidate = get_index_first_non_zero_value_from_column(M, row, row) \n",
    "            M = swap_rows(M, row, first_non_zero_value_below_pivot_candidate) \n",
    "            pivot = M[row,row] \n",
    "        else:\n",
    "            pivot = pivot_candidate \n",
    "        M[row] = (1/pivot) * M[row]\n",
    "        for j in range(row + 1, num_rows): \n",
    "            value_below_pivot = M[j,row]\n",
    "            M[j] = M[j] - value_below_pivot*M[row]\n",
    "    return M"
   ]
  },
  {
   "cell_type": "code",
   "execution_count": 21,
   "id": "5844f7b1",
   "metadata": {},
   "outputs": [
    {
     "data": {
      "text/plain": [
       "array([[1. , 2. , 3. , 1. ],\n",
       "       [0. , 1. , 0. , 2. ],\n",
       "       [0. , 0. , 1. , 0.8]])"
      ]
     },
     "execution_count": 21,
     "metadata": {},
     "output_type": "execute_result"
    }
   ],
   "source": [
    "A = np.array([[1,2,3],[0,1,0], [0,0,5]])\n",
    "B = np.array([[1], [2], [4]])\n",
    "row_echelon_form(A,B)"
   ]
  },
  {
   "cell_type": "code",
   "execution_count": 22,
   "id": "5f008436",
   "metadata": {
    "tags": [
     "graded"
    ]
   },
   "outputs": [],
   "source": [
    "def back_substitution(M):\n",
    "    \n",
    "    M = M.copy()\n",
    "    num_rows = M.shape[0]\n",
    "    for row in reversed(range(num_rows)): \n",
    "        substitution_row = row\n",
    "        index = get_index_first_non_zero_value_from_row(M, substitution_row, augmented = True)\n",
    "        for j in range(row): \n",
    "            row_to_reduce = M[j] \n",
    "            value = row_to_reduce[index]\n",
    "            row_to_reduce = row_to_reduce  - (value* M[substitution_row])\n",
    "            M[j,:] = row_to_reduce\n",
    "    solution = M[:,-1]\n",
    "    return solution"
   ]
  },
  {
   "cell_type": "code",
   "execution_count": 24,
   "id": "e8d8106a",
   "metadata": {
    "tags": [
     "graded"
    ]
   },
   "outputs": [],
   "source": [
    "def gaussian_elimination(A, B):\n",
    "    \n",
    "    row_echelon_M = row_echelon_form(A,B)\n",
    "    if not isinstance(row_echelon_M, str): \n",
    "        solution = back_substitution(row_echelon_M)\n",
    "    return solution"
   ]
  },
  {
   "cell_type": "code",
   "execution_count": 25,
   "id": "1ede9f04",
   "metadata": {},
   "outputs": [],
   "source": [
    "from utils import string_to_augmented_matrix"
   ]
  },
  {
   "cell_type": "code",
   "execution_count": 26,
   "id": "1e9fd574",
   "metadata": {},
   "outputs": [
    {
     "name": "stdout",
     "output_type": "stream",
     "text": [
      "x = -1.5414\n",
      "y = -0.5223\n",
      "w = -0.1210\n",
      "z = 1.1855\n"
     ]
    }
   ],
   "source": [
    "equations = \"\"\"\n",
    "3*x + 6*y + 6*w + 8*z = 1\n",
    "5*x + 3*y + 6*w = -10\n",
    "4*y - 5*w + 8*z = 8\n",
    "4*w + 8*z = 9\n",
    "\"\"\"\n",
    "variables, A, B = string_to_augmented_matrix(equations)\n",
    "sols = gaussian_elimination(A, B)\n",
    "if not isinstance(sols, str):\n",
    "    for variable, solution in zip(variables.split(' '),sols):\n",
    "        print(f\"{variable} = {solution:.4f}\")\n",
    "else:\n",
    "    print(sols)"
   ]
  }
 ],
 "metadata": {
  "kernelspec": {
   "display_name": "Python 3 (ipykernel)",
   "language": "python",
   "name": "python3"
  },
  "language_info": {
   "codemirror_mode": {
    "name": "ipython",
    "version": 3
   },
   "file_extension": ".py",
   "mimetype": "text/x-python",
   "name": "python",
   "nbconvert_exporter": "python",
   "pygments_lexer": "ipython3",
   "version": "3.10.9"
  }
 },
 "nbformat": 4,
 "nbformat_minor": 5
}
